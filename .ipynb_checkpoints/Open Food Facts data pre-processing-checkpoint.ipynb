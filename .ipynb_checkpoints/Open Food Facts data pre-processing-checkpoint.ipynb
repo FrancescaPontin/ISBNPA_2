{
 "cells": [
  {
   "cell_type": "markdown",
   "id": "8a245795",
   "metadata": {},
   "source": [
    "## Open Food Facts data pre-processing\n",
    "\n",
    "\n",
    "Data available on Kaggle at: <url>https://www.kaggle.com/datasets/openfoodfacts/world-food-facts</url>"
   ]
  },
  {
   "cell_type": "code",
   "execution_count": 1,
   "id": "58967797",
   "metadata": {},
   "outputs": [],
   "source": [
    "# Install required data\n",
    "import pandas as pd"
   ]
  },
  {
   "cell_type": "code",
   "execution_count": 2,
   "id": "cc43b69b",
   "metadata": {},
   "outputs": [
    {
     "name": "stderr",
     "output_type": "stream",
     "text": [
      "/var/folders/zb/krmfm5g13lz_rmrhr0vqhjbw0000gn/T/ipykernel_12399/2488217055.py:1: DtypeWarning: Columns (0,3,5,19,20,24,25,26,27,28,36,37,38,39,48) have mixed types. Specify dtype option on import or set low_memory=False.\n",
      "  data =pd.read_csv('/Users/francescapontin/Downloads/en.openfoodfacts.org.products.tsv', sep='\\t')\n"
     ]
    }
   ],
   "source": [
    "# read in data from download location\n",
    "data =pd.read_csv('/Users/francescapontin/Downloads/en.openfoodfacts.org.products.tsv', sep='\\t')"
   ]
  },
  {
   "cell_type": "markdown",
   "id": "fc39ce61",
   "metadata": {},
   "source": [
    "## Clean and sub-set the data"
   ]
  },
  {
   "cell_type": "code",
   "execution_count": null,
   "id": "e0368594",
   "metadata": {},
   "outputs": [],
   "source": [
    "# Only include data with a UK nutri-score\n",
    "data=data.loc[~data['nutrition-score-uk_100g'].isna(),:]\n",
    "\n",
    "# Only include data with generic name info\n",
    "data=data.loc[~data['generic_name'].isna(),:]\n",
    "\n",
    "# Only include data where quantity is known\n",
    "data=data.loc[~data['quantity'].isna(),:]\n",
    "\n",
    "# Subset columns to only include relevant ones for exploratory analysis and to reduce file size\n",
    "data[['created_datetime','last_modified_datetime','product_name', 'generic_name','quantity','serving_size',\n",
    " 'nutrition_grade_fr',\n",
    " 'pnns_groups_1',\n",
    " 'pnns_groups_2',\n",
    " 'main_category_en',\n",
    " 'energy_100g',\n",
    " 'fat_100g',\n",
    " 'saturated-fat_100g',\n",
    " 'monounsaturated-fat_100g',\n",
    " 'polyunsaturated-fat_100g',\n",
    " 'omega-3-fat_100g',\n",
    " 'omega-6-fat_100g',\n",
    " 'omega-9-fat_100g',\n",
    " 'trans-fat_100g',\n",
    " 'cholesterol_100g',\n",
    " 'carbohydrates_100g',\n",
    " 'sugars_100g',\n",
    "'starch_100g',\n",
    " 'fiber_100g',\n",
    " 'proteins_100g']].to_csv('Open_Food_facts_sample_data.csv')"
   ]
  }
 ],
 "metadata": {
  "kernelspec": {
   "display_name": "Python 3 (ipykernel)",
   "language": "python",
   "name": "python3"
  },
  "language_info": {
   "codemirror_mode": {
    "name": "ipython",
    "version": 3
   },
   "file_extension": ".py",
   "mimetype": "text/x-python",
   "name": "python",
   "nbconvert_exporter": "python",
   "pygments_lexer": "ipython3",
   "version": "3.10.8"
  }
 },
 "nbformat": 4,
 "nbformat_minor": 5
}
